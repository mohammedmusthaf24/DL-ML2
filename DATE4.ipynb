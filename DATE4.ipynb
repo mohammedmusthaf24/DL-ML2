{
  "nbformat": 4,
  "nbformat_minor": 0,
  "metadata": {
    "colab": {
      "provenance": []
    },
    "kernelspec": {
      "name": "python3",
      "display_name": "Python 3"
    },
    "language_info": {
      "name": "python"
    }
  },
  "cells": [
    {
      "cell_type": "code",
      "execution_count": 114,
      "metadata": {
        "id": "giyV-I6affp_"
      },
      "outputs": [],
      "source": [
        "\n",
        "#Importing MNIST dataset\n",
        "from keras.datasets import mnist\n",
        "# The np_utils module provides utilities for converting data types and manipulating arrays.\n",
        "from keras.utils import np_utils\n",
        "import matplotlib.pyplot as plt\n",
        "%matplotlib inline\n",
        "import numpy as np"
      ]
    },
    {
      "cell_type": "code",
      "source": [
        "\n",
        "#load_data : unpacks the data into tuples : (X_train, y_train) and (X_test, y_test)\n",
        "(X_train, y_train), (X_test, y_test) = mnist.load_data()"
      ],
      "metadata": {
        "id": "UUWzhZBRfjdg"
      },
      "execution_count": 115,
      "outputs": []
    },
    {
      "cell_type": "code",
      "source": [
        "print(X_train[1].shape)"
      ],
      "metadata": {
        "colab": {
          "base_uri": "https://localhost:8080/"
        },
        "id": "pxFYHeMTfp05",
        "outputId": "992dd8cd-dd35-442e-db7b-8db25494b9ce"
      },
      "execution_count": 116,
      "outputs": [
        {
          "output_type": "stream",
          "name": "stdout",
          "text": [
            "(28, 28)\n"
          ]
        }
      ]
    },
    {
      "cell_type": "code",
      "source": [
        "\n",
        "print(\"Number of training examples :\", X_train.shape[0], \"and each image is of shape (%d, %d)\"%(X_train.shape[1], X_train.shape[2]))\n",
        "print(\"Number of training examples :\", X_test.shape[0], \"and each image is of shape (%d, %d)\"%(X_test.shape[1], X_test.shape[2]))"
      ],
      "metadata": {
        "colab": {
          "base_uri": "https://localhost:8080/"
        },
        "id": "K2m5tjKOfvEu",
        "outputId": "05e44b86-d485-48ea-ddd5-69762d1adb33"
      },
      "execution_count": 117,
      "outputs": [
        {
          "output_type": "stream",
          "name": "stdout",
          "text": [
            "Number of training examples : 60000 and each image is of shape (28, 28)\n",
            "Number of training examples : 10000 and each image is of shape (28, 28)\n"
          ]
        }
      ]
    },
    {
      "cell_type": "code",
      "source": [
        "for i in range(9):\n",
        " # define subplot\n",
        " plt.subplot(330 + 1 + i)\n",
        " # plot raw pixel data\n",
        " plt.imshow(X_train[i], cmap=plt.get_cmap('gray'))\n",
        "# show the figure\n",
        "plt.show()"
      ],
      "metadata": {
        "colab": {
          "base_uri": "https://localhost:8080/",
          "height": 433
        },
        "id": "3ioZfszWgJSr",
        "outputId": "9a5462b2-9b63-489e-a8de-435409edb224"
      },
      "execution_count": 118,
      "outputs": [
        {
          "output_type": "display_data",
          "data": {
            "text/plain": [
              "<Figure size 640x480 with 9 Axes>"
            ],
            "image/png": "[encoded data removed]"
          },
          "metadata": {}
        }
      ]
    },
    {
      "cell_type": "code",
      "source": [
        "#shape : helps to view the dimensions of the input array\n",
        "print(X_train.shape)\n",
        "print(X_test.shape)"
      ],
      "metadata": {
        "colab": {
          "base_uri": "https://localhost:8080/"
        },
        "id": "k5MwykIBgQ1Y",
        "outputId": "096a3fff-5b44-49b9-d82e-f895c9eed188"
      },
      "execution_count": 119,
      "outputs": [
        {
          "output_type": "stream",
          "name": "stdout",
          "text": [
            "(60000, 28, 28)\n",
            "(10000, 28, 28)\n"
          ]
        }
      ]
    },
    {
      "cell_type": "code",
      "source": [
        "\n",
        "#shape : helps to view the dimensions of the numpy array\n",
        "print(X_train.shape)\n",
        "print(y_train.shape)\n",
        "print(X_test.shape)\n",
        "print(y_test.shape)"
      ],
      "metadata": {
        "colab": {
          "base_uri": "https://localhost:8080/"
        },
        "id": "47Z-4T2RgcNq",
        "outputId": "7da67d32-b88d-4250-ab6e-a188ea35e027"
      },
      "execution_count": 120,
      "outputs": [
        {
          "output_type": "stream",
          "name": "stdout",
          "text": [
            "(60000, 28, 28)\n",
            "(60000,)\n",
            "(10000, 28, 28)\n",
            "(10000,)\n"
          ]
        }
      ]
    },
    {
      "cell_type": "code",
      "source": [
        "#convert 2d to 1d\n",
        "X_train = X_train.reshape(X_train.shape[0], X_train.shape[1]*X_train.shape[2])\n",
        "X_test = X_test.reshape(X_test.shape[0], X_test.shape[1]*X_test.shape[2])\n"
      ],
      "metadata": {
        "id": "1JKWP4_DhbbM"
      },
      "execution_count": 121,
      "outputs": []
    },
    {
      "cell_type": "code",
      "source": [
        "print(X_train[0])\n",
        ""
      ],
      "metadata": {
        "colab": {
          "base_uri": "https://localhost:8080/"
        },
        "id": "cq9r5d98iAYt",
        "outputId": "e4ca1854-0374-4892-a30b-d1bd43ed1f17"
      },
      "execution_count": 122,
      "outputs": [
        {
          "output_type": "stream",
          "name": "stdout",
          "text": [
            "[  0   0   0   0   0   0   0   0   0   0   0   0   0   0   0   0   0   0\n",
            "   0   0   0   0   0   0   0   0   0   0   0   0   0   0   0   0   0   0\n",
            "   0   0   0   0   0   0   0   0   0   0   0   0   0   0   0   0   0   0\n",
            "   0   0   0   0   0   0   0   0   0   0   0   0   0   0   0   0   0   0\n",
            "   0   0   0   0   0   0   0   0   0   0   0   0   0   0   0   0   0   0\n",
            "   0   0   0   0   0   0   0   0   0   0   0   0   0   0   0   0   0   0\n",
            "   0   0   0   0   0   0   0   0   0   0   0   0   0   0   0   0   0   0\n",
            "   0   0   0   0   0   0   0   0   0   0   0   0   0   0   0   0   0   0\n",
            "   0   0   0   0   0   0   0   0   3  18  18  18 126 136 175  26 166 255\n",
            " 247 127   0   0   0   0   0   0   0   0   0   0   0   0  30  36  94 154\n",
            " 170 253 253 253 253 253 225 172 253 242 195  64   0   0   0   0   0   0\n",
            "   0   0   0   0   0  49 238 253 253 253 253 253 253 253 253 251  93  82\n",
            "  82  56  39   0   0   0   0   0   0   0   0   0   0   0   0  18 219 253\n",
            " 253 253 253 253 198 182 247 241   0   0   0   0   0   0   0   0   0   0\n",
            "   0   0   0   0   0   0   0   0  80 156 107 253 253 205  11   0  43 154\n",
            "   0   0   0   0   0   0   0   0   0   0   0   0   0   0   0   0   0   0\n",
            "   0  14   1 154 253  90   0   0   0   0   0   0   0   0   0   0   0   0\n",
            "   0   0   0   0   0   0   0   0   0   0   0   0   0 139 253 190   2   0\n",
            "   0   0   0   0   0   0   0   0   0   0   0   0   0   0   0   0   0   0\n",
            "   0   0   0   0   0  11 190 253  70   0   0   0   0   0   0   0   0   0\n",
            "   0   0   0   0   0   0   0   0   0   0   0   0   0   0   0   0  35 241\n",
            " 225 160 108   1   0   0   0   0   0   0   0   0   0   0   0   0   0   0\n",
            "   0   0   0   0   0   0   0   0   0  81 240 253 253 119  25   0   0   0\n",
            "   0   0   0   0   0   0   0   0   0   0   0   0   0   0   0   0   0   0\n",
            "   0   0  45 186 253 253 150  27   0   0   0   0   0   0   0   0   0   0\n",
            "   0   0   0   0   0   0   0   0   0   0   0   0   0  16  93 252 253 187\n",
            "   0   0   0   0   0   0   0   0   0   0   0   0   0   0   0   0   0   0\n",
            "   0   0   0   0   0   0   0 249 253 249  64   0   0   0   0   0   0   0\n",
            "   0   0   0   0   0   0   0   0   0   0   0   0   0   0  46 130 183 253\n",
            " 253 207   2   0   0   0   0   0   0   0   0   0   0   0   0   0   0   0\n",
            "   0   0   0   0  39 148 229 253 253 253 250 182   0   0   0   0   0   0\n",
            "   0   0   0   0   0   0   0   0   0   0   0   0  24 114 221 253 253 253\n",
            " 253 201  78   0   0   0   0   0   0   0   0   0   0   0   0   0   0   0\n",
            "   0   0  23  66 213 253 253 253 253 198  81   2   0   0   0   0   0   0\n",
            "   0   0   0   0   0   0   0   0   0   0  18 171 219 253 253 253 253 195\n",
            "  80   9   0   0   0   0   0   0   0   0   0   0   0   0   0   0   0   0\n",
            "  55 172 226 253 253 253 253 244 133  11   0   0   0   0   0   0   0   0\n",
            "   0   0   0   0   0   0   0   0   0   0 136 253 253 253 212 135 132  16\n",
            "   0   0   0   0   0   0   0   0   0   0   0   0   0   0   0   0   0   0\n",
            "   0   0   0   0   0   0   0   0   0   0   0   0   0   0   0   0   0   0\n",
            "   0   0   0   0   0   0   0   0   0   0   0   0   0   0   0   0   0   0\n",
            "   0   0   0   0   0   0   0   0   0   0   0   0   0   0   0   0   0   0\n",
            "   0   0   0   0   0   0   0   0   0   0   0   0   0   0   0   0   0   0\n",
            "   0   0   0   0   0   0   0   0   0   0]\n"
          ]
        }
      ]
    },
    {
      "cell_type": "code",
      "source": [
        "#pixel values are typically represented as integers between 0 and 255,\n",
        "#where 0 represents black and 255 represents white.\n",
        "X_train = X_train/255\n",
        "X_test = X_test/255"
      ],
      "metadata": {
        "id": "PhRf8NLhiHUB"
      },
      "execution_count": 123,
      "outputs": []
    },
    {
      "cell_type": "code",
      "source": [
        "print(X_train[0])"
      ],
      "metadata": {
        "colab": {
          "base_uri": "https://localhost:8080/"
        },
        "id": "9xufIys1iNci",
        "outputId": "d92b1903-6e7c-4b48-c870-3e29ce698e0a"
      },
      "execution_count": 124,
      "outputs": [
        {
          "output_type": "stream",
          "name": "stdout",
          "text": [
            "[0.         0.         0.         0.         0.         0.\n",
            " 0.         0.         0.         0.         0.         0.\n",
            " 0.         0.         0.         0.         0.         0.\n",
            " 0.         0.         0.         0.         0.         0.\n",
            " 0.         0.         0.         0.         0.         0.\n",
            " 0.         0.         0.         0.         0.         0.\n",
            " 0.         0.         0.         0.         0.         0.\n",
            " 0.         0.         0.         0.         0.         0.\n",
            " 0.         0.         0.         0.         0.         0.\n",
            " 0.         0.         0.         0.         0.         0.\n",
            " 0.         0.         0.         0.         0.         0.\n",
            " 0.         0.         0.         0.         0.         0.\n",
            " 0.         0.         0.         0.         0.         0.\n",
            " 0.         0.         0.         0.         0.         0.\n",
            " 0.         0.         0.         0.         0.         0.\n",
            " 0.         0.         0.         0.         0.         0.\n",
            " 0.         0.         0.         0.         0.         0.\n",
            " 0.         0.         0.         0.         0.         0.\n",
            " 0.         0.         0.         0.         0.         0.\n",
            " 0.         0.         0.         0.         0.         0.\n",
            " 0.         0.         0.         0.         0.         0.\n",
            " 0.         0.         0.         0.         0.         0.\n",
            " 0.         0.         0.         0.         0.         0.\n",
            " 0.         0.         0.         0.         0.         0.\n",
            " 0.         0.         0.         0.         0.         0.\n",
            " 0.         0.         0.01176471 0.07058824 0.07058824 0.07058824\n",
            " 0.49411765 0.53333333 0.68627451 0.10196078 0.65098039 1.\n",
            " 0.96862745 0.49803922 0.         0.         0.         0.\n",
            " 0.         0.         0.         0.         0.         0.\n",
            " 0.         0.         0.11764706 0.14117647 0.36862745 0.60392157\n",
            " 0.66666667 0.99215686 0.99215686 0.99215686 0.99215686 0.99215686\n",
            " 0.88235294 0.6745098  0.99215686 0.94901961 0.76470588 0.25098039\n",
            " 0.         0.         0.         0.         0.         0.\n",
            " 0.         0.         0.         0.         0.         0.19215686\n",
            " 0.93333333 0.99215686 0.99215686 0.99215686 0.99215686 0.99215686\n",
            " 0.99215686 0.99215686 0.99215686 0.98431373 0.36470588 0.32156863\n",
            " 0.32156863 0.21960784 0.15294118 0.         0.         0.\n",
            " 0.         0.         0.         0.         0.         0.\n",
            " 0.         0.         0.         0.07058824 0.85882353 0.99215686\n",
            " 0.99215686 0.99215686 0.99215686 0.99215686 0.77647059 0.71372549\n",
            " 0.96862745 0.94509804 0.         0.         0.         0.\n",
            " 0.         0.         0.         0.         0.         0.\n",
            " 0.         0.         0.         0.         0.         0.\n",
            " 0.         0.         0.31372549 0.61176471 0.41960784 0.99215686\n",
            " 0.99215686 0.80392157 0.04313725 0.         0.16862745 0.60392157\n",
            " 0.         0.         0.         0.         0.         0.\n",
            " 0.         0.         0.         0.         0.         0.\n",
            " 0.         0.         0.         0.         0.         0.\n",
            " 0.         0.05490196 0.00392157 0.60392157 0.99215686 0.35294118\n",
            " 0.         0.         0.         0.         0.         0.\n",
            " 0.         0.         0.         0.         0.         0.\n",
            " 0.         0.         0.         0.         0.         0.\n",
            " 0.         0.         0.         0.         0.         0.\n",
            " 0.         0.54509804 0.99215686 0.74509804 0.00784314 0.\n",
            " 0.         0.         0.         0.         0.         0.\n",
            " 0.         0.         0.         0.         0.         0.\n",
            " 0.         0.         0.         0.         0.         0.\n",
            " 0.         0.         0.         0.         0.         0.04313725\n",
            " 0.74509804 0.99215686 0.2745098  0.         0.         0.\n",
            " 0.         0.         0.         0.         0.         0.\n",
            " 0.         0.         0.         0.         0.         0.\n",
            " 0.         0.         0.         0.         0.         0.\n",
            " 0.         0.         0.         0.         0.1372549  0.94509804\n",
            " 0.88235294 0.62745098 0.42352941 0.00392157 0.         0.\n",
            " 0.         0.         0.         0.         0.         0.\n",
            " 0.         0.         0.         0.         0.         0.\n",
            " 0.         0.         0.         0.         0.         0.\n",
            " 0.         0.         0.         0.31764706 0.94117647 0.99215686\n",
            " 0.99215686 0.46666667 0.09803922 0.         0.         0.\n",
            " 0.         0.         0.         0.         0.         0.\n",
            " 0.         0.         0.         0.         0.         0.\n",
            " 0.         0.         0.         0.         0.         0.\n",
            " 0.         0.         0.17647059 0.72941176 0.99215686 0.99215686\n",
            " 0.58823529 0.10588235 0.         0.         0.         0.\n",
            " 0.         0.         0.         0.         0.         0.\n",
            " 0.         0.         0.         0.         0.         0.\n",
            " 0.         0.         0.         0.         0.         0.\n",
            " 0.         0.0627451  0.36470588 0.98823529 0.99215686 0.73333333\n",
            " 0.         0.         0.         0.         0.         0.\n",
            " 0.         0.         0.         0.         0.         0.\n",
            " 0.         0.         0.         0.         0.         0.\n",
            " 0.         0.         0.         0.         0.         0.\n",
            " 0.         0.97647059 0.99215686 0.97647059 0.25098039 0.\n",
            " 0.         0.         0.         0.         0.         0.\n",
            " 0.         0.         0.         0.         0.         0.\n",
            " 0.         0.         0.         0.         0.         0.\n",
            " 0.         0.         0.18039216 0.50980392 0.71764706 0.99215686\n",
            " 0.99215686 0.81176471 0.00784314 0.         0.         0.\n",
            " 0.         0.         0.         0.         0.         0.\n",
            " 0.         0.         0.         0.         0.         0.\n",
            " 0.         0.         0.         0.         0.15294118 0.58039216\n",
            " 0.89803922 0.99215686 0.99215686 0.99215686 0.98039216 0.71372549\n",
            " 0.         0.         0.         0.         0.         0.\n",
            " 0.         0.         0.         0.         0.         0.\n",
            " 0.         0.         0.         0.         0.         0.\n",
            " 0.09411765 0.44705882 0.86666667 0.99215686 0.99215686 0.99215686\n",
            " 0.99215686 0.78823529 0.30588235 0.         0.         0.\n",
            " 0.         0.         0.         0.         0.         0.\n",
            " 0.         0.         0.         0.         0.         0.\n",
            " 0.         0.         0.09019608 0.25882353 0.83529412 0.99215686\n",
            " 0.99215686 0.99215686 0.99215686 0.77647059 0.31764706 0.00784314\n",
            " 0.         0.         0.         0.         0.         0.\n",
            " 0.         0.         0.         0.         0.         0.\n",
            " 0.         0.         0.         0.         0.07058824 0.67058824\n",
            " 0.85882353 0.99215686 0.99215686 0.99215686 0.99215686 0.76470588\n",
            " 0.31372549 0.03529412 0.         0.         0.         0.\n",
            " 0.         0.         0.         0.         0.         0.\n",
            " 0.         0.         0.         0.         0.         0.\n",
            " 0.21568627 0.6745098  0.88627451 0.99215686 0.99215686 0.99215686\n",
            " 0.99215686 0.95686275 0.52156863 0.04313725 0.         0.\n",
            " 0.         0.         0.         0.         0.         0.\n",
            " 0.         0.         0.         0.         0.         0.\n",
            " 0.         0.         0.         0.         0.53333333 0.99215686\n",
            " 0.99215686 0.99215686 0.83137255 0.52941176 0.51764706 0.0627451\n",
            " 0.         0.         0.         0.         0.         0.\n",
            " 0.         0.         0.         0.         0.         0.\n",
            " 0.         0.         0.         0.         0.         0.\n",
            " 0.         0.         0.         0.         0.         0.\n",
            " 0.         0.         0.         0.         0.         0.\n",
            " 0.         0.         0.         0.         0.         0.\n",
            " 0.         0.         0.         0.         0.         0.\n",
            " 0.         0.         0.         0.         0.         0.\n",
            " 0.         0.         0.         0.         0.         0.\n",
            " 0.         0.         0.         0.         0.         0.\n",
            " 0.         0.         0.         0.         0.         0.\n",
            " 0.         0.         0.         0.         0.         0.\n",
            " 0.         0.         0.         0.         0.         0.\n",
            " 0.         0.         0.         0.         0.         0.\n",
            " 0.         0.         0.         0.         0.         0.\n",
            " 0.         0.         0.         0.         0.         0.\n",
            " 0.         0.         0.         0.        ]\n"
          ]
        }
      ]
    },
    {
      "cell_type": "code",
      "source": [
        "\n",
        "#Preprocessing\n",
        "print(\"Class label of first image :\", y_train[0])"
      ],
      "metadata": {
        "colab": {
          "base_uri": "https://localhost:8080/"
        },
        "id": "eDLqxSLrim5_",
        "outputId": "2e14afd9-0ebc-4da9-8549-975fed005236"
      },
      "execution_count": 125,
      "outputs": [
        {
          "output_type": "stream",
          "name": "stdout",
          "text": [
            "Class label of first image : 5\n"
          ]
        }
      ]
    },
    {
      "cell_type": "code",
      "source": [
        "\n",
        "#One-hot encoding\n",
        "Y_train = np_utils.to_categorical(y_train, 10)\n",
        "Y_test = np_utils.to_categorical(y_test, 10)"
      ],
      "metadata": {
        "id": "V07kRuXoiq6J"
      },
      "execution_count": 126,
      "outputs": []
    },
    {
      "cell_type": "code",
      "source": [
        "print(\"After converting the output into a vector : \",Y_train[0])"
      ],
      "metadata": {
        "colab": {
          "base_uri": "https://localhost:8080/"
        },
        "id": "WTnvZmzqiusH",
        "outputId": "2f9fcc86-4384-4453-a843-a281c21b9edc"
      },
      "execution_count": 127,
      "outputs": [
        {
          "output_type": "stream",
          "name": "stdout",
          "text": [
            "After converting the output into a vector :  [0. 0. 0. 0. 0. 1. 0. 0. 0. 0.]\n"
          ]
        }
      ]
    },
    {
      "cell_type": "code",
      "source": [
        "\n",
        "#Building a model\n",
        "from keras.models import Sequential\n",
        "from keras.layers import Dense, Activation"
      ],
      "metadata": {
        "id": "dD4bJRogi8mt"
      },
      "execution_count": 128,
      "outputs": []
    },
    {
      "cell_type": "code",
      "source": [
        "#input_dim : number of features(columns) in the input data\n",
        "#output_dim : there are 10 possible output classes, corresponding to the digits 0 to 9.\n",
        "input_dim = X_train.shape[1] #784\n",
        "output_dim = 10 #0-9\n"
      ],
      "metadata": {
        "id": "hPvMwKDQjFH_"
      },
      "execution_count": 129,
      "outputs": []
    },
    {
      "cell_type": "code",
      "source": [
        "\n",
        "model = Sequential()\n",
        "model.add(Dense(output_dim, input_dim=input_dim, activation='softmax'))\n",
        "model.compile(optimizer='sgd', loss='categorical_crossentropy', metrics=['accuracy'])"
      ],
      "metadata": {
        "id": "CBr-gQ4ni-EZ"
      },
      "execution_count": 130,
      "outputs": []
    },
    {
      "cell_type": "code",
      "source": [
        "\n",
        "model = Sequential()\n",
        "model.add(Dense(output_dim, input_dim=input_dim, activation='softmax'))\n",
        "model.compile(optimizer='sgd', loss='categorical_crossentropy', metrics=['accuracy'])\n",
        ""
      ],
      "metadata": {
        "id": "tIV49LDZjPTo"
      },
      "execution_count": 131,
      "outputs": []
    },
    {
      "cell_type": "code",
      "source": [
        "\n",
        "\n",
        "#Fitting the model\n",
        "history = model.fit(X_train, Y_train, batch_size=128, epochs=20, verbose=1, validation_data=(X_test, Y_test))\n",
        ""
      ],
      "metadata": {
        "colab": {
          "base_uri": "https://localhost:8080/"
        },
        "id": "UXPpHM9SjWVz",
        "outputId": "c7c6f625-91e6-4535-c4b1-7615150b13f0"
      },
      "execution_count": 132,
      "outputs": [
        {
          "output_type": "stream",
          "name": "stdout",
          "text": [
            "Epoch 1/20\n",
            "469/469 [==============================] - 2s 3ms/step - loss: 1.2863 - accuracy: 0.6957 - val_loss: 0.8158 - val_accuracy: 0.8242\n",
            "Epoch 2/20\n",
            "469/469 [==============================] - 1s 3ms/step - loss: 0.7171 - accuracy: 0.8372 - val_loss: 0.6114 - val_accuracy: 0.8596\n",
            "Epoch 3/20\n",
            "469/469 [==============================] - 2s 5ms/step - loss: 0.5881 - accuracy: 0.8579 - val_loss: 0.5292 - val_accuracy: 0.8718\n",
            "Epoch 4/20\n",
            "469/469 [==============================] - 2s 4ms/step - loss: 0.5263 - accuracy: 0.8677 - val_loss: 0.4831 - val_accuracy: 0.8792\n",
            "Epoch 5/20\n",
            "469/469 [==============================] - 1s 3ms/step - loss: 0.4886 - accuracy: 0.8736 - val_loss: 0.4533 - val_accuracy: 0.8840\n",
            "Epoch 6/20\n",
            "469/469 [==============================] - 1s 3ms/step - loss: 0.4627 - accuracy: 0.8787 - val_loss: 0.4314 - val_accuracy: 0.8890\n",
            "Epoch 7/20\n",
            "469/469 [==============================] - 1s 3ms/step - loss: 0.4435 - accuracy: 0.8818 - val_loss: 0.4148 - val_accuracy: 0.8921\n",
            "Epoch 8/20\n",
            "469/469 [==============================] - 1s 3ms/step - loss: 0.4286 - accuracy: 0.8849 - val_loss: 0.4020 - val_accuracy: 0.8956\n",
            "Epoch 9/20\n",
            "469/469 [==============================] - 1s 3ms/step - loss: 0.4165 - accuracy: 0.8874 - val_loss: 0.3915 - val_accuracy: 0.8967\n",
            "Epoch 10/20\n",
            "469/469 [==============================] - 1s 3ms/step - loss: 0.4064 - accuracy: 0.8899 - val_loss: 0.3829 - val_accuracy: 0.8991\n",
            "Epoch 11/20\n",
            "469/469 [==============================] - 2s 3ms/step - loss: 0.3979 - accuracy: 0.8919 - val_loss: 0.3754 - val_accuracy: 0.8994\n",
            "Epoch 12/20\n",
            "469/469 [==============================] - 2s 5ms/step - loss: 0.3906 - accuracy: 0.8935 - val_loss: 0.3687 - val_accuracy: 0.9013\n",
            "Epoch 13/20\n",
            "469/469 [==============================] - 1s 3ms/step - loss: 0.3842 - accuracy: 0.8947 - val_loss: 0.3631 - val_accuracy: 0.9023\n",
            "Epoch 14/20\n",
            "469/469 [==============================] - 1s 3ms/step - loss: 0.3785 - accuracy: 0.8966 - val_loss: 0.3578 - val_accuracy: 0.9026\n",
            "Epoch 15/20\n",
            "469/469 [==============================] - 1s 3ms/step - loss: 0.3735 - accuracy: 0.8978 - val_loss: 0.3537 - val_accuracy: 0.9037\n",
            "Epoch 16/20\n",
            "469/469 [==============================] - 1s 3ms/step - loss: 0.3690 - accuracy: 0.8988 - val_loss: 0.3498 - val_accuracy: 0.9041\n",
            "Epoch 17/20\n",
            "469/469 [==============================] - 1s 3ms/step - loss: 0.3649 - accuracy: 0.8995 - val_loss: 0.3460 - val_accuracy: 0.9054\n",
            "Epoch 18/20\n",
            "469/469 [==============================] - 2s 4ms/step - loss: 0.3611 - accuracy: 0.9007 - val_loss: 0.3427 - val_accuracy: 0.9056\n",
            "Epoch 19/20\n",
            "469/469 [==============================] - 5s 10ms/step - loss: 0.3577 - accuracy: 0.9009 - val_loss: 0.3396 - val_accuracy: 0.9068\n",
            "Epoch 20/20\n",
            "469/469 [==============================] - 3s 6ms/step - loss: 0.3545 - accuracy: 0.9018 - val_loss: 0.3370 - val_accuracy: 0.9075\n"
          ]
        }
      ]
    },
    {
      "cell_type": "code",
      "source": [
        "#evaluates the trained neural network model on the testing data (X_test and Y_test)\n",
        "#prints the test score and accuracy\n",
        "score = model.evaluate(X_test, Y_test, verbose=0)\n",
        "print('Test score:', score[0])\n",
        "print('Test accuracy:', score[1])"
      ],
      "metadata": {
        "colab": {
          "base_uri": "https://localhost:8080/"
        },
        "id": "qIuZ5g4OjyZr",
        "outputId": "d0a43c35-2fb3-4d1c-90fb-d78ca69e1aef"
      },
      "execution_count": 133,
      "outputs": [
        {
          "output_type": "stream",
          "name": "stdout",
          "text": [
            "Test score: 0.33698439598083496\n",
            "Test accuracy: 0.9075000286102295\n"
          ]
        }
      ]
    },
    {
      "cell_type": "code",
      "source": [
        "image_index = 120\n",
        "plt.imshow(X_test[image_index].reshape(28, 28),cmap='Greys')\n",
        "pred = model.predict(X_test)\n",
        "print(pred[image_index])\n",
        "print(np.argmax(pred[image_index]))"
      ],
      "metadata": {
        "colab": {
          "base_uri": "https://localhost:8080/",
          "height": 499
        },
        "id": "_nNL_V6pjz_a",
        "outputId": "adcf807c-8104-44e3-e516-a69dfe3f8a73"
      },
      "execution_count": 134,
      "outputs": [
        {
          "output_type": "stream",
          "name": "stdout",
          "text": [
            "313/313 [==============================] - 0s 1ms/step\n",
            "[6.5188052e-04 7.1880487e-07 2.3687411e-04 1.6384298e-01 6.9685810e-04\n",
            " 7.6638794e-01 2.4406747e-04 5.8959795e-06 6.7577824e-02 3.5491597e-04]\n",
            "5\n"
          ]
        },
        {
          "output_type": "display_data",
          "data": {
            "text/plain": [
              "<Figure size 640x480 with 1 Axes>"
            ],
            "image/png": "[encoded data removed]"
          },
          "metadata": {}
        }
      ]
    },
    {
      "cell_type": "code",
      "source": [
        "\n",
        "#constants for readability\n",
        "NB_EPOCHS = 20\n",
        "BATCH_SIZE = 128\n",
        ""
      ],
      "metadata": {
        "id": "Qprye6J4j5Ts"
      },
      "execution_count": 135,
      "outputs": []
    },
    {
      "cell_type": "code",
      "source": [
        "# Multilayer perceptron\n",
        "\n",
        "model_sigmoid = Sequential()\n",
        "model_sigmoid.add(Dense(512, activation='sigmoid', input_shape=(input_dim,)))\n",
        "model_sigmoid.add(Dense(128, activation='sigmoid'))\n",
        "model_sigmoid.add(Dense(output_dim, activation='softmax'))\n",
        "model_sigmoid.summary()\n",
        ""
      ],
      "metadata": {
        "colab": {
          "base_uri": "https://localhost:8080/"
        },
        "id": "sMX9BEOdkCux",
        "outputId": "f8f53326-52cf-44a6-e707-936c6a186f92"
      },
      "execution_count": 136,
      "outputs": [
        {
          "output_type": "stream",
          "name": "stdout",
          "text": [
            "Model: \"sequential_13\"\n",
            "_________________________________________________________________\n",
            " Layer (type)                Output Shape              Param #   \n",
            "=================================================================\n",
            " dense_21 (Dense)            (None, 512)               401920    \n",
            "                                                                 \n",
            " dense_22 (Dense)            (None, 128)               65664     \n",
            "                                                                 \n",
            " dense_23 (Dense)            (None, 10)                1290      \n",
            "                                                                 \n",
            "=================================================================\n",
            "Total params: 468,874\n",
            "Trainable params: 468,874\n",
            "Non-trainable params: 0\n",
            "_________________________________________________________________\n"
          ]
        }
      ]
    },
    {
      "cell_type": "code",
      "source": [
        "#MLP+Sigmoid+ADAM optimizer\n",
        "model_sigmoid.compile(optimizer='adam', loss='categorical_crossentropy', metrics=['accuracy'])\n",
        "history = model_sigmoid.fit(X_train, Y_train, batch_size=BATCH_SIZE, epochs=NB_EPOCHS, verbose=1, validation_data=(X_test, Y_test))"
      ],
      "metadata": {
        "colab": {
          "base_uri": "https://localhost:8080/"
        },
        "id": "0rrJGnMSkIG4",
        "outputId": "699fca3a-26eb-4dcf-92af-5ffc38cc5536"
      },
      "execution_count": 137,
      "outputs": [
        {
          "output_type": "stream",
          "name": "stdout",
          "text": [
            "Epoch 1/20\n",
            "469/469 [==============================] - 8s 15ms/step - loss: 0.5283 - accuracy: 0.8647 - val_loss: 0.2473 - val_accuracy: 0.9281\n",
            "Epoch 2/20\n",
            "469/469 [==============================] - 7s 15ms/step - loss: 0.2210 - accuracy: 0.9357 - val_loss: 0.1821 - val_accuracy: 0.9452\n",
            "Epoch 3/20\n",
            "469/469 [==============================] - 6s 13ms/step - loss: 0.1647 - accuracy: 0.9515 - val_loss: 0.1465 - val_accuracy: 0.9565\n",
            "Epoch 4/20\n",
            "469/469 [==============================] - 8s 16ms/step - loss: 0.1275 - accuracy: 0.9623 - val_loss: 0.1263 - val_accuracy: 0.9620\n",
            "Epoch 5/20\n",
            "469/469 [==============================] - 6s 13ms/step - loss: 0.1008 - accuracy: 0.9707 - val_loss: 0.1045 - val_accuracy: 0.9677\n",
            "Epoch 6/20\n",
            "469/469 [==============================] - 7s 16ms/step - loss: 0.0806 - accuracy: 0.9764 - val_loss: 0.0879 - val_accuracy: 0.9715\n",
            "Epoch 7/20\n",
            "469/469 [==============================] - 6s 13ms/step - loss: 0.0670 - accuracy: 0.9798 - val_loss: 0.0818 - val_accuracy: 0.9727\n",
            "Epoch 8/20\n",
            "469/469 [==============================] - 7s 16ms/step - loss: 0.0535 - accuracy: 0.9837 - val_loss: 0.0782 - val_accuracy: 0.9750\n",
            "Epoch 9/20\n",
            "469/469 [==============================] - 6s 13ms/step - loss: 0.0439 - accuracy: 0.9868 - val_loss: 0.0691 - val_accuracy: 0.9779\n",
            "Epoch 10/20\n",
            "469/469 [==============================] - 7s 16ms/step - loss: 0.0354 - accuracy: 0.9903 - val_loss: 0.0653 - val_accuracy: 0.9790\n",
            "Epoch 11/20\n",
            "469/469 [==============================] - 6s 13ms/step - loss: 0.0289 - accuracy: 0.9917 - val_loss: 0.0707 - val_accuracy: 0.9788\n",
            "Epoch 12/20\n",
            "469/469 [==============================] - 7s 16ms/step - loss: 0.0236 - accuracy: 0.9935 - val_loss: 0.0726 - val_accuracy: 0.9775\n",
            "Epoch 13/20\n",
            "469/469 [==============================] - 6s 13ms/step - loss: 0.0182 - accuracy: 0.9955 - val_loss: 0.0623 - val_accuracy: 0.9810\n",
            "Epoch 14/20\n",
            "469/469 [==============================] - 8s 17ms/step - loss: 0.0145 - accuracy: 0.9966 - val_loss: 0.0665 - val_accuracy: 0.9796\n",
            "Epoch 15/20\n",
            "469/469 [==============================] - 6s 13ms/step - loss: 0.0127 - accuracy: 0.9969 - val_loss: 0.0631 - val_accuracy: 0.9812\n",
            "Epoch 16/20\n",
            "469/469 [==============================] - 8s 16ms/step - loss: 0.0093 - accuracy: 0.9978 - val_loss: 0.0624 - val_accuracy: 0.9822\n",
            "Epoch 17/20\n",
            "469/469 [==============================] - 8s 16ms/step - loss: 0.0069 - accuracy: 0.9989 - val_loss: 0.0761 - val_accuracy: 0.9779\n",
            "Epoch 18/20\n",
            "469/469 [==============================] - 7s 14ms/step - loss: 0.0062 - accuracy: 0.9988 - val_loss: 0.0644 - val_accuracy: 0.9825\n",
            "Epoch 19/20\n",
            "469/469 [==============================] - 7s 15ms/step - loss: 0.0052 - accuracy: 0.9987 - val_loss: 0.0752 - val_accuracy: 0.9804\n",
            "Epoch 20/20\n",
            "469/469 [==============================] - 7s 15ms/step - loss: 0.0051 - accuracy: 0.9987 - val_loss: 0.0670 - val_accuracy: 0.9819\n"
          ]
        }
      ]
    },
    {
      "cell_type": "code",
      "source": [
        "#MLP+Sigmoid+ADAM optimizer\n",
        "model_sigmoid.compile(optimizer='adam', loss='categorical_crossentropy', metrics=['accuracy'])\n",
        "history = model_sigmoid.fit(X_train, Y_train, batch_size=BATCH_SIZE, epochs=NB_EPOCHS, verbose=1, validation_data=(X_test, Y_test))"
      ],
      "metadata": {
        "colab": {
          "base_uri": "https://localhost:8080/"
        },
        "id": "_Bu6K8zPktWL",
        "outputId": "5f3f2f33-1875-4b43-c758-29745c9892e1"
      },
      "execution_count": 138,
      "outputs": [
        {
          "output_type": "stream",
          "name": "stdout",
          "text": [
            "Epoch 1/20\n",
            "469/469 [==============================] - 8s 16ms/step - loss: 0.0054 - accuracy: 0.9987 - val_loss: 0.0742 - val_accuracy: 0.9803\n",
            "Epoch 2/20\n",
            "469/469 [==============================] - 6s 13ms/step - loss: 0.0042 - accuracy: 0.9988 - val_loss: 0.0765 - val_accuracy: 0.9804\n",
            "Epoch 3/20\n",
            "469/469 [==============================] - 7s 15ms/step - loss: 0.0031 - accuracy: 0.9992 - val_loss: 0.0701 - val_accuracy: 0.9828\n",
            "Epoch 4/20\n",
            "469/469 [==============================] - 6s 13ms/step - loss: 0.0032 - accuracy: 0.9991 - val_loss: 0.0820 - val_accuracy: 0.9805\n",
            "Epoch 5/20\n",
            "469/469 [==============================] - 7s 16ms/step - loss: 0.0031 - accuracy: 0.9993 - val_loss: 0.0722 - val_accuracy: 0.9822\n",
            "Epoch 6/20\n",
            "469/469 [==============================] - 6s 13ms/step - loss: 0.0017 - accuracy: 0.9996 - val_loss: 0.0847 - val_accuracy: 0.9795\n",
            "Epoch 7/20\n",
            "469/469 [==============================] - 7s 16ms/step - loss: 0.0026 - accuracy: 0.9993 - val_loss: 0.0700 - val_accuracy: 0.9833\n",
            "Epoch 8/20\n",
            "469/469 [==============================] - 6s 13ms/step - loss: 5.2706e-04 - accuracy: 0.9999 - val_loss: 0.0738 - val_accuracy: 0.9833\n",
            "Epoch 9/20\n",
            "469/469 [==============================] - 7s 16ms/step - loss: 3.2202e-04 - accuracy: 1.0000 - val_loss: 0.0735 - val_accuracy: 0.9829\n",
            "Epoch 10/20\n",
            "469/469 [==============================] - 6s 13ms/step - loss: 0.0079 - accuracy: 0.9973 - val_loss: 0.0773 - val_accuracy: 0.9830\n",
            "Epoch 11/20\n",
            "469/469 [==============================] - 7s 16ms/step - loss: 8.9782e-04 - accuracy: 0.9998 - val_loss: 0.0766 - val_accuracy: 0.9827\n",
            "Epoch 12/20\n",
            "469/469 [==============================] - 6s 13ms/step - loss: 2.7510e-04 - accuracy: 1.0000 - val_loss: 0.0738 - val_accuracy: 0.9837\n",
            "Epoch 13/20\n",
            "469/469 [==============================] - 7s 15ms/step - loss: 1.9085e-04 - accuracy: 1.0000 - val_loss: 0.0747 - val_accuracy: 0.9845\n",
            "Epoch 14/20\n",
            "469/469 [==============================] - 7s 14ms/step - loss: 1.4710e-04 - accuracy: 1.0000 - val_loss: 0.0740 - val_accuracy: 0.9841\n",
            "Epoch 15/20\n",
            "469/469 [==============================] - 7s 15ms/step - loss: 9.8339e-04 - accuracy: 0.9998 - val_loss: 0.1129 - val_accuracy: 0.9770\n",
            "Epoch 16/20\n",
            "469/469 [==============================] - 7s 14ms/step - loss: 0.0099 - accuracy: 0.9967 - val_loss: 0.0877 - val_accuracy: 0.9805\n",
            "Epoch 17/20\n",
            "469/469 [==============================] - 7s 14ms/step - loss: 0.0011 - accuracy: 0.9998 - val_loss: 0.0862 - val_accuracy: 0.9809\n",
            "Epoch 18/20\n",
            "469/469 [==============================] - 7s 15ms/step - loss: 8.0520e-04 - accuracy: 0.9999 - val_loss: 0.0764 - val_accuracy: 0.9834\n",
            "Epoch 19/20\n",
            "469/469 [==============================] - 6s 14ms/step - loss: 1.3253e-04 - accuracy: 1.0000 - val_loss: 0.0764 - val_accuracy: 0.9838\n",
            "Epoch 20/20\n",
            "469/469 [==============================] - 7s 15ms/step - loss: 1.0123e-04 - accuracy: 1.0000 - val_loss: 0.0766 - val_accuracy: 0.9843\n"
          ]
        }
      ]
    },
    {
      "cell_type": "code",
      "source": [
        "image_index = 30\n",
        "plt.imshow(X_test[image_index].reshape(28, 28),cmap='Greys')\n",
        "pred = model_sigmoid.predict(X_test)\n",
        "print(pred[image_index])\n",
        "print(np.argmax(pred[image_index]))"
      ],
      "metadata": {
        "colab": {
          "base_uri": "https://localhost:8080/",
          "height": 499
        },
        "id": "1vYFptQHkxYE",
        "outputId": "9025a578-70f4-4e2e-eeaf-0b4ecd8b4709"
      },
      "execution_count": 139,
      "outputs": [
        {
          "output_type": "stream",
          "name": "stdout",
          "text": [
            "313/313 [==============================] - 1s 3ms/step\n",
            "[1.6363385e-13 3.2262668e-11 1.6181951e-12 9.9999994e-01 2.4125844e-16\n",
            " 1.2705127e-10 1.9669704e-15 4.5509000e-12 4.0976719e-12 1.6324216e-11]\n",
            "3\n"
          ]
        },
        {
          "output_type": "display_data",
          "data": {
            "text/plain": [
              "<Figure size 640x480 with 1 Axes>"
            ],
            "image/png": "[encoded data removed]"
          },
          "metadata": {}
        }
      ]
    },
    {
      "cell_type": "code",
      "source": [
        "#MLP+ReLu Activation+ADAM optimizer\n",
        "model_relu = Sequential()\n",
        "model_relu.add(Dense(512, activation='relu', input_shape=(input_dim,)))\n",
        "model_relu.add(Dense(128, activation='relu'))\n",
        "model_relu.add(Dense(output_dim, activation='softmax'))\n",
        "model_relu.summary()"
      ],
      "metadata": {
        "colab": {
          "base_uri": "https://localhost:8080/"
        },
        "id": "Jw-2z9XYk6AQ",
        "outputId": "db145516-1c05-4966-b483-ca647fd31123"
      },
      "execution_count": 140,
      "outputs": [
        {
          "output_type": "stream",
          "name": "stdout",
          "text": [
            "Model: \"sequential_14\"\n",
            "_________________________________________________________________\n",
            " Layer (type)                Output Shape              Param #   \n",
            "=================================================================\n",
            " dense_24 (Dense)            (None, 512)               401920    \n",
            "                                                                 \n",
            " dense_25 (Dense)            (None, 128)               65664     \n",
            "                                                                 \n",
            " dense_26 (Dense)            (None, 10)                1290      \n",
            "                                                                 \n",
            "=================================================================\n",
            "Total params: 468,874\n",
            "Trainable params: 468,874\n",
            "Non-trainable params: 0\n",
            "_________________________________________________________________\n"
          ]
        }
      ]
    },
    {
      "cell_type": "code",
      "source": [
        "model_relu.compile(optimizer='adam', loss='categorical_crossentropy', metrics=['accuracy'])\n",
        "history = model_sigmoid.fit(X_train, Y_train, batch_size=BATCH_SIZE, epochs=NB_EPOCHS, verbose=1, validation_data=(X_test, Y_test))"
      ],
      "metadata": {
        "colab": {
          "base_uri": "https://localhost:8080/"
        },
        "id": "kW9xvv1Vk_BL",
        "outputId": "6d9d5f5e-86fa-46fc-d401-eed925a38063"
      },
      "execution_count": 141,
      "outputs": [
        {
          "output_type": "stream",
          "name": "stdout",
          "text": [
            "Epoch 1/20\n",
            "469/469 [==============================] - 7s 15ms/step - loss: 8.5696e-05 - accuracy: 1.0000 - val_loss: 0.0774 - val_accuracy: 0.9842\n",
            "Epoch 2/20\n",
            "469/469 [==============================] - 6s 13ms/step - loss: 7.3288e-05 - accuracy: 1.0000 - val_loss: 0.0771 - val_accuracy: 0.9844\n",
            "Epoch 3/20\n",
            "469/469 [==============================] - 7s 16ms/step - loss: 6.4542e-05 - accuracy: 1.0000 - val_loss: 0.0777 - val_accuracy: 0.9842\n",
            "Epoch 4/20\n",
            "469/469 [==============================] - 6s 13ms/step - loss: 5.5851e-05 - accuracy: 1.0000 - val_loss: 0.0776 - val_accuracy: 0.9849\n",
            "Epoch 5/20\n",
            "469/469 [==============================] - 7s 16ms/step - loss: 4.9099e-05 - accuracy: 1.0000 - val_loss: 0.0781 - val_accuracy: 0.9844\n",
            "Epoch 6/20\n",
            "469/469 [==============================] - 6s 13ms/step - loss: 4.3365e-05 - accuracy: 1.0000 - val_loss: 0.0783 - val_accuracy: 0.9842\n",
            "Epoch 7/20\n",
            "469/469 [==============================] - 9s 18ms/step - loss: 3.9799e-05 - accuracy: 1.0000 - val_loss: 0.0783 - val_accuracy: 0.9846\n",
            "Epoch 8/20\n",
            "469/469 [==============================] - 6s 13ms/step - loss: 3.5110e-05 - accuracy: 1.0000 - val_loss: 0.0784 - val_accuracy: 0.9844\n",
            "Epoch 9/20\n",
            "469/469 [==============================] - 7s 15ms/step - loss: 0.0050 - accuracy: 0.9983 - val_loss: 0.1103 - val_accuracy: 0.9756\n",
            "Epoch 10/20\n",
            "469/469 [==============================] - 6s 13ms/step - loss: 0.0060 - accuracy: 0.9979 - val_loss: 0.0812 - val_accuracy: 0.9833\n",
            "Epoch 11/20\n",
            "469/469 [==============================] - 7s 15ms/step - loss: 2.6487e-04 - accuracy: 1.0000 - val_loss: 0.0809 - val_accuracy: 0.9837\n",
            "Epoch 12/20\n",
            "469/469 [==============================] - 6s 13ms/step - loss: 8.3754e-05 - accuracy: 1.0000 - val_loss: 0.0811 - val_accuracy: 0.9839\n",
            "Epoch 13/20\n",
            "469/469 [==============================] - 7s 15ms/step - loss: 5.8654e-05 - accuracy: 1.0000 - val_loss: 0.0816 - val_accuracy: 0.9839\n",
            "Epoch 14/20\n",
            "469/469 [==============================] - 7s 14ms/step - loss: 4.8502e-05 - accuracy: 1.0000 - val_loss: 0.0829 - val_accuracy: 0.9839\n",
            "Epoch 15/20\n",
            "469/469 [==============================] - 7s 15ms/step - loss: 4.1055e-05 - accuracy: 1.0000 - val_loss: 0.0830 - val_accuracy: 0.9839\n",
            "Epoch 16/20\n",
            "469/469 [==============================] - 7s 14ms/step - loss: 3.5076e-05 - accuracy: 1.0000 - val_loss: 0.0835 - val_accuracy: 0.9838\n",
            "Epoch 17/20\n",
            "469/469 [==============================] - 7s 15ms/step - loss: 3.0500e-05 - accuracy: 1.0000 - val_loss: 0.0838 - val_accuracy: 0.9837\n",
            "Epoch 18/20\n",
            "469/469 [==============================] - 7s 15ms/step - loss: 2.6425e-05 - accuracy: 1.0000 - val_loss: 0.0845 - val_accuracy: 0.9842\n",
            "Epoch 19/20\n",
            "469/469 [==============================] - 6s 14ms/step - loss: 2.2933e-05 - accuracy: 1.0000 - val_loss: 0.0843 - val_accuracy: 0.9838\n",
            "Epoch 20/20\n",
            "469/469 [==============================] - 7s 16ms/step - loss: 2.0478e-05 - accuracy: 1.0000 - val_loss: 0.0852 - val_accuracy: 0.9839\n"
          ]
        }
      ]
    },
    {
      "cell_type": "code",
      "source": [
        "image_index = 70\n",
        "plt.imshow(X_test[image_index].reshape(28, 28),cmap='Greys')\n",
        "pred = model_relu.predict(X_test)\n",
        "print(pred[image_index])\n",
        "print(np.argmax(pred[image_index]))"
      ],
      "metadata": {
        "colab": {
          "base_uri": "https://localhost:8080/",
          "height": 499
        },
        "id": "qgi57oM7lKz0",
        "outputId": "d24939fb-cb4a-43ef-c095-7d30cdf28fa7"
      },
      "execution_count": 142,
      "outputs": [
        {
          "output_type": "stream",
          "name": "stdout",
          "text": [
            "313/313 [==============================] - 1s 3ms/step\n",
            "[0.07095931 0.12390666 0.0680396  0.1440797  0.10454932 0.11695579\n",
            " 0.09273358 0.09586503 0.08990052 0.09301048]\n",
            "3\n"
          ]
        },
        {
          "output_type": "display_data",
          "data": {
            "text/plain": [
              "<Figure size 640x480 with 1 Axes>"
            ],
            "image/png": "[encoded data removed]"
          },
          "metadata": {}
        }
      ]
    },
    {
      "cell_type": "code",
      "source": [
        "import tensorflow as tf\n",
        "strategy = tf.distribute.MirroredStrategy()\n",
        "model_sigmoid = Sequential()\n",
        "model_sigmoid.add(Dense(512, activation='sigmoid', input_shape=(input_dim,)))\n",
        "with strategy.scope():\n",
        "  model = tf.keras.Sequential()\n",
        "  model.add(tf.keras.layers.Dense(16))\n",
        "  model.add(tf.keras.layers.BatchNormalization(synchronized=True))\n",
        "model_sigmoid.add(Dense(128, activation='sigmoid'))\n",
        "model_sigmoid.add(Dense(output_dim, activation='softmax'))\n",
        "model_sigmoid.summary()"
      ],
      "metadata": {
        "colab": {
          "base_uri": "https://localhost:8080/"
        },
        "id": "8NlKeyVBlVWW",
        "outputId": "331d4623-a3fc-4688-87ab-894837b4e17f"
      },
      "execution_count": 143,
      "outputs": [
        {
          "output_type": "stream",
          "name": "stderr",
          "text": [
            "WARNING:tensorflow:There are non-GPU devices in `tf.distribute.Strategy`, not using nccl allreduce.\n"
          ]
        },
        {
          "output_type": "stream",
          "name": "stdout",
          "text": [
            "Model: \"sequential_15\"\n",
            "_________________________________________________________________\n",
            " Layer (type)                Output Shape              Param #   \n",
            "=================================================================\n",
            " dense_27 (Dense)            (None, 512)               401920    \n",
            "                                                                 \n",
            " dense_29 (Dense)            (None, 128)               65664     \n",
            "                                                                 \n",
            " dense_30 (Dense)            (None, 10)                1290      \n",
            "                                                                 \n",
            "=================================================================\n",
            "Total params: 468,874\n",
            "Trainable params: 468,874\n",
            "Non-trainable params: 0\n",
            "_________________________________________________________________\n"
          ]
        }
      ]
    },
    {
      "cell_type": "code",
      "source": [
        "\n",
        "image_index = 44\n",
        "plt.imshow(X_test[image_index].reshape(28, 28),cmap='Greys')\n",
        "pred = model_sigmoid.predict(X_test)\n",
        "print(pred[image_index])\n",
        "print(np.argmax(pred[image_index]))"
      ],
      "metadata": {
        "colab": {
          "base_uri": "https://localhost:8080/",
          "height": 499
        },
        "id": "86FyX4txlfug",
        "outputId": "d96001cc-7b41-40d8-c778-9b046abefd19"
      },
      "execution_count": 144,
      "outputs": [
        {
          "output_type": "stream",
          "name": "stdout",
          "text": [
            "313/313 [==============================] - 1s 3ms/step\n",
            "[0.01995166 0.02504973 0.07944101 0.06799144 0.15513745 0.03800065\n",
            " 0.19405223 0.16237937 0.21079595 0.04720051]\n",
            "8\n"
          ]
        },
        {
          "output_type": "display_data",
          "data": {
            "text/plain": [
              "<Figure size 640x480 with 1 Axes>"
            ],
            "image/png": "[encoded data removed]"
          },
          "metadata": {}
        }
      ]
    },
    {
      "cell_type": "markdown",
      "source": [],
      "metadata": {
        "id": "S1fPDfRFlfdc"
      }
    }
  ]
}